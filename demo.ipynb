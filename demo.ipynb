{
  "cells": [
    {
      "cell_type": "markdown",
      "metadata": {
        "id": "Nq5DUjCItIFJ"
      },
      "source": [
        "# LightGlue Demo\n",
        "In this notebook we match two pairs of images using LightGlue with early stopping and point pruning."
      ]
    },
    {
      "cell_type": "code",
      "source": [
        "from google.colab import drive\n",
        "drive.mount('/content/drive')"
      ],
      "metadata": {
        "colab": {
          "base_uri": "https://localhost:8080/"
        },
        "id": "9xx1hmB4ue7b",
        "outputId": "c93b7294-affa-4e98-9d61-040a4fe71085"
      },
      "execution_count": 1,
      "outputs": [
        {
          "output_type": "stream",
          "name": "stdout",
          "text": [
            "Mounted at /content/drive\n"
          ]
        }
      ]
    },
    {
      "cell_type": "code",
      "source": [
        "%cd /content/drive/MyDrive"
      ],
      "metadata": {
        "colab": {
          "base_uri": "https://localhost:8080/"
        },
        "id": "0i8YVRwEwLGx",
        "outputId": "f59f7cfe-0a06-4aea-9273-55ff88f610db"
      },
      "execution_count": 8,
      "outputs": [
        {
          "output_type": "stream",
          "name": "stdout",
          "text": [
            "/content/drive/MyDrive\n"
          ]
        }
      ]
    },
    {
      "cell_type": "code",
      "source": [
        "# !unzip \"gallery.zip\" -d \"gallery\""
      ],
      "metadata": {
        "id": "lMSHCUxovif8"
      },
      "execution_count": null,
      "outputs": []
    },
    {
      "cell_type": "code",
      "execution_count": 3,
      "metadata": {
        "colab": {
          "base_uri": "https://localhost:8080/"
        },
        "id": "seL2hUpatIFL",
        "outputId": "fc4dba5f-3d10-4229-d1a3-a7d5f248ed2f"
      },
      "outputs": [
        {
          "output_type": "stream",
          "name": "stdout",
          "text": [
            "fatal: destination path 'LightGlue' already exists and is not an empty directory.\n",
            "/content/drive/MyDrive/LightGlue\n",
            "  Installing build dependencies ... \u001b[?25l\u001b[?25hdone\n",
            "  Checking if build backend supports build_editable ... \u001b[?25l\u001b[?25hdone\n",
            "  Getting requirements to build editable ... \u001b[?25l\u001b[?25hdone\n",
            "  Preparing editable metadata (pyproject.toml) ... \u001b[?25l\u001b[?25hdone\n",
            "  Building editable for lightglue (pyproject.toml) ... \u001b[?25l\u001b[?25hdone\n"
          ]
        }
      ],
      "source": [
        "# If we are on colab: this clones the repo and installs the dependencies\n",
        "from pathlib import Path\n",
        "\n",
        "if Path.cwd().name != \"LightGlue\":\n",
        "    !git clone --quiet https://github.com/cvg/LightGlue/\n",
        "    %cd LightGlue\n",
        "    !pip install --progress-bar off --quiet -e .\n"
      ]
    },
    {
      "cell_type": "code",
      "source": [
        "from lightglue import LightGlue, SuperPoint, DISK\n",
        "from lightglue.utils import load_image, rbd\n",
        "from lightglue import viz2d\n",
        "import torch\n",
        "import numpy as np\n",
        "from lightglue import match_pair\n",
        "from pathlib import Path\n",
        "import matplotlib.pyplot as plt\n",
        "import os\n",
        "import cv2\n",
        "import sys"
      ],
      "metadata": {
        "id": "_6oh9ryw8ChC",
        "colab": {
          "base_uri": "https://localhost:8080/"
        },
        "outputId": "6416b8a7-32f1-4d3f-a8c6-183d0ad1b66e"
      },
      "execution_count": 4,
      "outputs": [
        {
          "output_type": "stream",
          "name": "stderr",
          "text": [
            "/usr/local/lib/python3.10/dist-packages/kornia/feature/lightglue.py:44: FutureWarning: `torch.cuda.amp.custom_fwd(args...)` is deprecated. Please use `torch.amp.custom_fwd(args..., device_type='cuda')` instead.\n",
            "  @torch.cuda.amp.custom_fwd(cast_inputs=torch.float32)\n",
            "/content/drive/MyDrive/LightGlue/lightglue/lightglue.py:24: FutureWarning: `torch.cuda.amp.custom_fwd(args...)` is deprecated. Please use `torch.amp.custom_fwd(args..., device_type='cuda')` instead.\n",
            "  @torch.cuda.amp.custom_fwd(cast_inputs=torch.float32)\n"
          ]
        }
      ]
    },
    {
      "cell_type": "code",
      "source": [
        "torch.set_grad_enabled(False)\n",
        "\n",
        "device = torch.device(\"cuda\" if torch.cuda.is_available() else \"cpu\")  # 'mps', 'cpu'\n",
        "\n",
        "extractor = SuperPoint(max_num_keypoints=300).eval().to(device)  # load the extractor\n",
        "matcher = LightGlue(features=\"superpoint\").eval().to(device)\n",
        "print(device)"
      ],
      "metadata": {
        "colab": {
          "base_uri": "https://localhost:8080/"
        },
        "id": "CWK9s9oywiPi",
        "outputId": "db70158f-0860-4751-ffa9-d787315d8887"
      },
      "execution_count": 10,
      "outputs": [
        {
          "output_type": "stream",
          "name": "stdout",
          "text": [
            "cpu\n"
          ]
        }
      ]
    },
    {
      "cell_type": "code",
      "source": [
        "gallery_path = Path(\"gallery/gallery/gallery\")\n",
        "file_list = os.listdir(str(gallery_path))\n",
        "feature_path = \"gallery/gallery_features/\"\n",
        "feature_list = os.listdir(str(feature_path))\n",
        "for i, file_name1 in enumerate(file_list):\n",
        "    percentage = round(i / len(file_list) * 100)\n",
        "    print(\"\\r文件处理进度: {}%: \".format(percentage), \"▓\" * (percentage // 2), end=\"\")\n",
        "    sys.stdout.flush()\n",
        "    if file_name1 + \".npy\" in feature_list:\n",
        "      print(\"exites\")\n",
        "      sys.stdout.flush()\n",
        "      continue\n",
        "    gallery_image = load_image(gallery_path / file_name1)\n",
        "    features = extractor.extract(gallery_image.to(device))\n",
        "    np.save(\"gallery/gallery_features/\" + file_name1 + \".npy\", features)\n",
        "    # features1 = np.load(\"test/\" + file_name1 + \".npy\",allow_pickle=True)\n",
        "    # print(features1)"
      ],
      "metadata": {
        "colab": {
          "base_uri": "https://localhost:8080/",
          "height": 391
        },
        "id": "5eZzkS8yvf_i",
        "outputId": "9511e456-bc0f-4a82-ec32-c593e4f6fd03"
      },
      "execution_count": 12,
      "outputs": [
        {
          "output_type": "stream",
          "name": "stdout",
          "text": [
            "文件处理进度: 17%:  ▓▓▓▓▓▓▓▓"
          ]
        },
        {
          "output_type": "error",
          "ename": "KeyboardInterrupt",
          "evalue": "",
          "traceback": [
            "\u001b[0;31m---------------------------------------------------------------------------\u001b[0m",
            "\u001b[0;31mKeyboardInterrupt\u001b[0m                         Traceback (most recent call last)",
            "\u001b[0;32m<ipython-input-12-f82cbf148626>\u001b[0m in \u001b[0;36m<cell line: 5>\u001b[0;34m()\u001b[0m\n\u001b[1;32m     11\u001b[0m       \u001b[0;32mcontinue\u001b[0m\u001b[0;34m\u001b[0m\u001b[0;34m\u001b[0m\u001b[0m\n\u001b[1;32m     12\u001b[0m     \u001b[0mgallery_image\u001b[0m \u001b[0;34m=\u001b[0m \u001b[0mload_image\u001b[0m\u001b[0;34m(\u001b[0m\u001b[0mgallery_path\u001b[0m \u001b[0;34m/\u001b[0m \u001b[0mfile_name1\u001b[0m\u001b[0;34m)\u001b[0m\u001b[0;34m\u001b[0m\u001b[0;34m\u001b[0m\u001b[0m\n\u001b[0;32m---> 13\u001b[0;31m     \u001b[0mfeatures\u001b[0m \u001b[0;34m=\u001b[0m \u001b[0mextractor\u001b[0m\u001b[0;34m.\u001b[0m\u001b[0mextract\u001b[0m\u001b[0;34m(\u001b[0m\u001b[0mgallery_image\u001b[0m\u001b[0;34m.\u001b[0m\u001b[0mto\u001b[0m\u001b[0;34m(\u001b[0m\u001b[0mdevice\u001b[0m\u001b[0;34m)\u001b[0m\u001b[0;34m)\u001b[0m\u001b[0;34m\u001b[0m\u001b[0;34m\u001b[0m\u001b[0m\n\u001b[0m\u001b[1;32m     14\u001b[0m     \u001b[0mnp\u001b[0m\u001b[0;34m.\u001b[0m\u001b[0msave\u001b[0m\u001b[0;34m(\u001b[0m\u001b[0;34m\"gallery/gallery_features/\"\u001b[0m \u001b[0;34m+\u001b[0m \u001b[0mfile_name1\u001b[0m \u001b[0;34m+\u001b[0m \u001b[0;34m\".npy\"\u001b[0m\u001b[0;34m,\u001b[0m \u001b[0mfeatures\u001b[0m\u001b[0;34m)\u001b[0m\u001b[0;34m\u001b[0m\u001b[0;34m\u001b[0m\u001b[0m\n\u001b[1;32m     15\u001b[0m     \u001b[0;31m# features1 = np.load(\"test/\" + file_name1 + \".npy\",allow_pickle=True)\u001b[0m\u001b[0;34m\u001b[0m\u001b[0;34m\u001b[0m\u001b[0m\n",
            "\u001b[0;32m/usr/local/lib/python3.10/dist-packages/torch/utils/_contextlib.py\u001b[0m in \u001b[0;36mdecorate_context\u001b[0;34m(*args, **kwargs)\u001b[0m\n\u001b[1;32m    114\u001b[0m     \u001b[0;32mdef\u001b[0m \u001b[0mdecorate_context\u001b[0m\u001b[0;34m(\u001b[0m\u001b[0;34m*\u001b[0m\u001b[0margs\u001b[0m\u001b[0;34m,\u001b[0m \u001b[0;34m**\u001b[0m\u001b[0mkwargs\u001b[0m\u001b[0;34m)\u001b[0m\u001b[0;34m:\u001b[0m\u001b[0;34m\u001b[0m\u001b[0;34m\u001b[0m\u001b[0m\n\u001b[1;32m    115\u001b[0m         \u001b[0;32mwith\u001b[0m \u001b[0mctx_factory\u001b[0m\u001b[0;34m(\u001b[0m\u001b[0;34m)\u001b[0m\u001b[0;34m:\u001b[0m\u001b[0;34m\u001b[0m\u001b[0;34m\u001b[0m\u001b[0m\n\u001b[0;32m--> 116\u001b[0;31m             \u001b[0;32mreturn\u001b[0m \u001b[0mfunc\u001b[0m\u001b[0;34m(\u001b[0m\u001b[0;34m*\u001b[0m\u001b[0margs\u001b[0m\u001b[0;34m,\u001b[0m \u001b[0;34m**\u001b[0m\u001b[0mkwargs\u001b[0m\u001b[0;34m)\u001b[0m\u001b[0;34m\u001b[0m\u001b[0;34m\u001b[0m\u001b[0m\n\u001b[0m\u001b[1;32m    117\u001b[0m \u001b[0;34m\u001b[0m\u001b[0m\n\u001b[1;32m    118\u001b[0m     \u001b[0;32mreturn\u001b[0m \u001b[0mdecorate_context\u001b[0m\u001b[0;34m\u001b[0m\u001b[0;34m\u001b[0m\u001b[0m\n",
            "\u001b[0;32m/content/drive/MyDrive/LightGlue/lightglue/utils.py\u001b[0m in \u001b[0;36mextract\u001b[0;34m(self, img, **conf)\u001b[0m\n\u001b[1;32m    142\u001b[0m         \u001b[0mshape\u001b[0m \u001b[0;34m=\u001b[0m \u001b[0mimg\u001b[0m\u001b[0;34m.\u001b[0m\u001b[0mshape\u001b[0m\u001b[0;34m[\u001b[0m\u001b[0;34m-\u001b[0m\u001b[0;36m2\u001b[0m\u001b[0;34m:\u001b[0m\u001b[0;34m]\u001b[0m\u001b[0;34m[\u001b[0m\u001b[0;34m:\u001b[0m\u001b[0;34m:\u001b[0m\u001b[0;34m-\u001b[0m\u001b[0;36m1\u001b[0m\u001b[0;34m]\u001b[0m\u001b[0;34m\u001b[0m\u001b[0;34m\u001b[0m\u001b[0m\n\u001b[1;32m    143\u001b[0m         \u001b[0mimg\u001b[0m\u001b[0;34m,\u001b[0m \u001b[0mscales\u001b[0m \u001b[0;34m=\u001b[0m \u001b[0mImagePreprocessor\u001b[0m\u001b[0;34m(\u001b[0m\u001b[0;34m**\u001b[0m\u001b[0;34m{\u001b[0m\u001b[0;34m**\u001b[0m\u001b[0mself\u001b[0m\u001b[0;34m.\u001b[0m\u001b[0mpreprocess_conf\u001b[0m\u001b[0;34m,\u001b[0m \u001b[0;34m**\u001b[0m\u001b[0mconf\u001b[0m\u001b[0;34m}\u001b[0m\u001b[0;34m)\u001b[0m\u001b[0;34m(\u001b[0m\u001b[0mimg\u001b[0m\u001b[0;34m)\u001b[0m\u001b[0;34m\u001b[0m\u001b[0;34m\u001b[0m\u001b[0m\n\u001b[0;32m--> 144\u001b[0;31m         \u001b[0mfeats\u001b[0m \u001b[0;34m=\u001b[0m \u001b[0mself\u001b[0m\u001b[0;34m.\u001b[0m\u001b[0mforward\u001b[0m\u001b[0;34m(\u001b[0m\u001b[0;34m{\u001b[0m\u001b[0;34m\"image\"\u001b[0m\u001b[0;34m:\u001b[0m \u001b[0mimg\u001b[0m\u001b[0;34m}\u001b[0m\u001b[0;34m)\u001b[0m\u001b[0;34m\u001b[0m\u001b[0;34m\u001b[0m\u001b[0m\n\u001b[0m\u001b[1;32m    145\u001b[0m         \u001b[0mfeats\u001b[0m\u001b[0;34m[\u001b[0m\u001b[0;34m\"image_size\"\u001b[0m\u001b[0;34m]\u001b[0m \u001b[0;34m=\u001b[0m \u001b[0mtorch\u001b[0m\u001b[0;34m.\u001b[0m\u001b[0mtensor\u001b[0m\u001b[0;34m(\u001b[0m\u001b[0mshape\u001b[0m\u001b[0;34m)\u001b[0m\u001b[0;34m[\u001b[0m\u001b[0;32mNone\u001b[0m\u001b[0;34m]\u001b[0m\u001b[0;34m.\u001b[0m\u001b[0mto\u001b[0m\u001b[0;34m(\u001b[0m\u001b[0mimg\u001b[0m\u001b[0;34m)\u001b[0m\u001b[0;34m.\u001b[0m\u001b[0mfloat\u001b[0m\u001b[0;34m(\u001b[0m\u001b[0;34m)\u001b[0m\u001b[0;34m\u001b[0m\u001b[0;34m\u001b[0m\u001b[0m\n\u001b[1;32m    146\u001b[0m         \u001b[0mfeats\u001b[0m\u001b[0;34m[\u001b[0m\u001b[0;34m\"keypoints\"\u001b[0m\u001b[0;34m]\u001b[0m \u001b[0;34m=\u001b[0m \u001b[0;34m(\u001b[0m\u001b[0mfeats\u001b[0m\u001b[0;34m[\u001b[0m\u001b[0;34m\"keypoints\"\u001b[0m\u001b[0;34m]\u001b[0m \u001b[0;34m+\u001b[0m \u001b[0;36m0.5\u001b[0m\u001b[0;34m)\u001b[0m \u001b[0;34m/\u001b[0m \u001b[0mscales\u001b[0m\u001b[0;34m[\u001b[0m\u001b[0;32mNone\u001b[0m\u001b[0;34m]\u001b[0m \u001b[0;34m-\u001b[0m \u001b[0;36m0.5\u001b[0m\u001b[0;34m\u001b[0m\u001b[0;34m\u001b[0m\u001b[0m\n",
            "\u001b[0;32m/content/drive/MyDrive/LightGlue/lightglue/superpoint.py\u001b[0m in \u001b[0;36mforward\u001b[0;34m(self, data)\u001b[0m\n\u001b[1;32m    159\u001b[0m         \u001b[0mx\u001b[0m \u001b[0;34m=\u001b[0m \u001b[0mself\u001b[0m\u001b[0;34m.\u001b[0m\u001b[0mrelu\u001b[0m\u001b[0;34m(\u001b[0m\u001b[0mself\u001b[0m\u001b[0;34m.\u001b[0m\u001b[0mconv1a\u001b[0m\u001b[0;34m(\u001b[0m\u001b[0mimage\u001b[0m\u001b[0;34m)\u001b[0m\u001b[0;34m)\u001b[0m\u001b[0;34m\u001b[0m\u001b[0;34m\u001b[0m\u001b[0m\n\u001b[1;32m    160\u001b[0m         \u001b[0mx\u001b[0m \u001b[0;34m=\u001b[0m \u001b[0mself\u001b[0m\u001b[0;34m.\u001b[0m\u001b[0mrelu\u001b[0m\u001b[0;34m(\u001b[0m\u001b[0mself\u001b[0m\u001b[0;34m.\u001b[0m\u001b[0mconv1b\u001b[0m\u001b[0;34m(\u001b[0m\u001b[0mx\u001b[0m\u001b[0;34m)\u001b[0m\u001b[0;34m)\u001b[0m\u001b[0;34m\u001b[0m\u001b[0;34m\u001b[0m\u001b[0m\n\u001b[0;32m--> 161\u001b[0;31m         \u001b[0mx\u001b[0m \u001b[0;34m=\u001b[0m \u001b[0mself\u001b[0m\u001b[0;34m.\u001b[0m\u001b[0mpool\u001b[0m\u001b[0;34m(\u001b[0m\u001b[0mx\u001b[0m\u001b[0;34m)\u001b[0m\u001b[0;34m\u001b[0m\u001b[0;34m\u001b[0m\u001b[0m\n\u001b[0m\u001b[1;32m    162\u001b[0m         \u001b[0mx\u001b[0m \u001b[0;34m=\u001b[0m \u001b[0mself\u001b[0m\u001b[0;34m.\u001b[0m\u001b[0mrelu\u001b[0m\u001b[0;34m(\u001b[0m\u001b[0mself\u001b[0m\u001b[0;34m.\u001b[0m\u001b[0mconv2a\u001b[0m\u001b[0;34m(\u001b[0m\u001b[0mx\u001b[0m\u001b[0;34m)\u001b[0m\u001b[0;34m)\u001b[0m\u001b[0;34m\u001b[0m\u001b[0;34m\u001b[0m\u001b[0m\n\u001b[1;32m    163\u001b[0m         \u001b[0mx\u001b[0m \u001b[0;34m=\u001b[0m \u001b[0mself\u001b[0m\u001b[0;34m.\u001b[0m\u001b[0mrelu\u001b[0m\u001b[0;34m(\u001b[0m\u001b[0mself\u001b[0m\u001b[0;34m.\u001b[0m\u001b[0mconv2b\u001b[0m\u001b[0;34m(\u001b[0m\u001b[0mx\u001b[0m\u001b[0;34m)\u001b[0m\u001b[0;34m)\u001b[0m\u001b[0;34m\u001b[0m\u001b[0;34m\u001b[0m\u001b[0m\n",
            "\u001b[0;32m/usr/local/lib/python3.10/dist-packages/torch/nn/modules/module.py\u001b[0m in \u001b[0;36m_wrapped_call_impl\u001b[0;34m(self, *args, **kwargs)\u001b[0m\n\u001b[1;32m   1551\u001b[0m             \u001b[0;32mreturn\u001b[0m \u001b[0mself\u001b[0m\u001b[0;34m.\u001b[0m\u001b[0m_compiled_call_impl\u001b[0m\u001b[0;34m(\u001b[0m\u001b[0;34m*\u001b[0m\u001b[0margs\u001b[0m\u001b[0;34m,\u001b[0m \u001b[0;34m**\u001b[0m\u001b[0mkwargs\u001b[0m\u001b[0;34m)\u001b[0m  \u001b[0;31m# type: ignore[misc]\u001b[0m\u001b[0;34m\u001b[0m\u001b[0;34m\u001b[0m\u001b[0m\n\u001b[1;32m   1552\u001b[0m         \u001b[0;32melse\u001b[0m\u001b[0;34m:\u001b[0m\u001b[0;34m\u001b[0m\u001b[0;34m\u001b[0m\u001b[0m\n\u001b[0;32m-> 1553\u001b[0;31m             \u001b[0;32mreturn\u001b[0m \u001b[0mself\u001b[0m\u001b[0;34m.\u001b[0m\u001b[0m_call_impl\u001b[0m\u001b[0;34m(\u001b[0m\u001b[0;34m*\u001b[0m\u001b[0margs\u001b[0m\u001b[0;34m,\u001b[0m \u001b[0;34m**\u001b[0m\u001b[0mkwargs\u001b[0m\u001b[0;34m)\u001b[0m\u001b[0;34m\u001b[0m\u001b[0;34m\u001b[0m\u001b[0m\n\u001b[0m\u001b[1;32m   1554\u001b[0m \u001b[0;34m\u001b[0m\u001b[0m\n\u001b[1;32m   1555\u001b[0m     \u001b[0;32mdef\u001b[0m \u001b[0m_call_impl\u001b[0m\u001b[0;34m(\u001b[0m\u001b[0mself\u001b[0m\u001b[0;34m,\u001b[0m \u001b[0;34m*\u001b[0m\u001b[0margs\u001b[0m\u001b[0;34m,\u001b[0m \u001b[0;34m**\u001b[0m\u001b[0mkwargs\u001b[0m\u001b[0;34m)\u001b[0m\u001b[0;34m:\u001b[0m\u001b[0;34m\u001b[0m\u001b[0;34m\u001b[0m\u001b[0m\n",
            "\u001b[0;32m/usr/local/lib/python3.10/dist-packages/torch/nn/modules/module.py\u001b[0m in \u001b[0;36m_call_impl\u001b[0;34m(self, *args, **kwargs)\u001b[0m\n\u001b[1;32m   1560\u001b[0m                 \u001b[0;32mor\u001b[0m \u001b[0m_global_backward_pre_hooks\u001b[0m \u001b[0;32mor\u001b[0m \u001b[0m_global_backward_hooks\u001b[0m\u001b[0;34m\u001b[0m\u001b[0;34m\u001b[0m\u001b[0m\n\u001b[1;32m   1561\u001b[0m                 or _global_forward_hooks or _global_forward_pre_hooks):\n\u001b[0;32m-> 1562\u001b[0;31m             \u001b[0;32mreturn\u001b[0m \u001b[0mforward_call\u001b[0m\u001b[0;34m(\u001b[0m\u001b[0;34m*\u001b[0m\u001b[0margs\u001b[0m\u001b[0;34m,\u001b[0m \u001b[0;34m**\u001b[0m\u001b[0mkwargs\u001b[0m\u001b[0;34m)\u001b[0m\u001b[0;34m\u001b[0m\u001b[0;34m\u001b[0m\u001b[0m\n\u001b[0m\u001b[1;32m   1563\u001b[0m \u001b[0;34m\u001b[0m\u001b[0m\n\u001b[1;32m   1564\u001b[0m         \u001b[0;32mtry\u001b[0m\u001b[0;34m:\u001b[0m\u001b[0;34m\u001b[0m\u001b[0;34m\u001b[0m\u001b[0m\n",
            "\u001b[0;32m/usr/local/lib/python3.10/dist-packages/torch/nn/modules/pooling.py\u001b[0m in \u001b[0;36mforward\u001b[0;34m(self, input)\u001b[0m\n\u001b[1;32m    162\u001b[0m \u001b[0;34m\u001b[0m\u001b[0m\n\u001b[1;32m    163\u001b[0m     \u001b[0;32mdef\u001b[0m \u001b[0mforward\u001b[0m\u001b[0;34m(\u001b[0m\u001b[0mself\u001b[0m\u001b[0;34m,\u001b[0m \u001b[0minput\u001b[0m\u001b[0;34m:\u001b[0m \u001b[0mTensor\u001b[0m\u001b[0;34m)\u001b[0m\u001b[0;34m:\u001b[0m\u001b[0;34m\u001b[0m\u001b[0;34m\u001b[0m\u001b[0m\n\u001b[0;32m--> 164\u001b[0;31m         return F.max_pool2d(input, self.kernel_size, self.stride,\n\u001b[0m\u001b[1;32m    165\u001b[0m                             \u001b[0mself\u001b[0m\u001b[0;34m.\u001b[0m\u001b[0mpadding\u001b[0m\u001b[0;34m,\u001b[0m \u001b[0mself\u001b[0m\u001b[0;34m.\u001b[0m\u001b[0mdilation\u001b[0m\u001b[0;34m,\u001b[0m \u001b[0mceil_mode\u001b[0m\u001b[0;34m=\u001b[0m\u001b[0mself\u001b[0m\u001b[0;34m.\u001b[0m\u001b[0mceil_mode\u001b[0m\u001b[0;34m,\u001b[0m\u001b[0;34m\u001b[0m\u001b[0;34m\u001b[0m\u001b[0m\n\u001b[1;32m    166\u001b[0m                             return_indices=self.return_indices)\n",
            "\u001b[0;32m/usr/local/lib/python3.10/dist-packages/torch/_jit_internal.py\u001b[0m in \u001b[0;36mfn\u001b[0;34m(*args, **kwargs)\u001b[0m\n\u001b[1;32m    501\u001b[0m             \u001b[0;32mreturn\u001b[0m \u001b[0mif_true\u001b[0m\u001b[0;34m(\u001b[0m\u001b[0;34m*\u001b[0m\u001b[0margs\u001b[0m\u001b[0;34m,\u001b[0m \u001b[0;34m**\u001b[0m\u001b[0mkwargs\u001b[0m\u001b[0;34m)\u001b[0m\u001b[0;34m\u001b[0m\u001b[0;34m\u001b[0m\u001b[0m\n\u001b[1;32m    502\u001b[0m         \u001b[0;32melse\u001b[0m\u001b[0;34m:\u001b[0m\u001b[0;34m\u001b[0m\u001b[0;34m\u001b[0m\u001b[0m\n\u001b[0;32m--> 503\u001b[0;31m             \u001b[0;32mreturn\u001b[0m \u001b[0mif_false\u001b[0m\u001b[0;34m(\u001b[0m\u001b[0;34m*\u001b[0m\u001b[0margs\u001b[0m\u001b[0;34m,\u001b[0m \u001b[0;34m**\u001b[0m\u001b[0mkwargs\u001b[0m\u001b[0;34m)\u001b[0m\u001b[0;34m\u001b[0m\u001b[0;34m\u001b[0m\u001b[0m\n\u001b[0m\u001b[1;32m    504\u001b[0m \u001b[0;34m\u001b[0m\u001b[0m\n\u001b[1;32m    505\u001b[0m     \u001b[0;32mif\u001b[0m \u001b[0mif_true\u001b[0m\u001b[0;34m.\u001b[0m\u001b[0m__doc__\u001b[0m \u001b[0;32mis\u001b[0m \u001b[0;32mNone\u001b[0m \u001b[0;32mand\u001b[0m \u001b[0mif_false\u001b[0m\u001b[0;34m.\u001b[0m\u001b[0m__doc__\u001b[0m \u001b[0;32mis\u001b[0m \u001b[0;32mnot\u001b[0m \u001b[0;32mNone\u001b[0m\u001b[0;34m:\u001b[0m\u001b[0;34m\u001b[0m\u001b[0;34m\u001b[0m\u001b[0m\n",
            "\u001b[0;32m/usr/local/lib/python3.10/dist-packages/torch/nn/functional.py\u001b[0m in \u001b[0;36m_max_pool2d\u001b[0;34m(input, kernel_size, stride, padding, dilation, ceil_mode, return_indices)\u001b[0m\n\u001b[1;32m    794\u001b[0m     \u001b[0;32mif\u001b[0m \u001b[0mstride\u001b[0m \u001b[0;32mis\u001b[0m \u001b[0;32mNone\u001b[0m\u001b[0;34m:\u001b[0m\u001b[0;34m\u001b[0m\u001b[0;34m\u001b[0m\u001b[0m\n\u001b[1;32m    795\u001b[0m         \u001b[0mstride\u001b[0m \u001b[0;34m=\u001b[0m \u001b[0mtorch\u001b[0m\u001b[0;34m.\u001b[0m\u001b[0mjit\u001b[0m\u001b[0;34m.\u001b[0m\u001b[0mannotate\u001b[0m\u001b[0;34m(\u001b[0m\u001b[0mList\u001b[0m\u001b[0;34m[\u001b[0m\u001b[0mint\u001b[0m\u001b[0;34m]\u001b[0m\u001b[0;34m,\u001b[0m \u001b[0;34m[\u001b[0m\u001b[0;34m]\u001b[0m\u001b[0;34m)\u001b[0m\u001b[0;34m\u001b[0m\u001b[0;34m\u001b[0m\u001b[0m\n\u001b[0;32m--> 796\u001b[0;31m     \u001b[0;32mreturn\u001b[0m \u001b[0mtorch\u001b[0m\u001b[0;34m.\u001b[0m\u001b[0mmax_pool2d\u001b[0m\u001b[0;34m(\u001b[0m\u001b[0minput\u001b[0m\u001b[0;34m,\u001b[0m \u001b[0mkernel_size\u001b[0m\u001b[0;34m,\u001b[0m \u001b[0mstride\u001b[0m\u001b[0;34m,\u001b[0m \u001b[0mpadding\u001b[0m\u001b[0;34m,\u001b[0m \u001b[0mdilation\u001b[0m\u001b[0;34m,\u001b[0m \u001b[0mceil_mode\u001b[0m\u001b[0;34m)\u001b[0m\u001b[0;34m\u001b[0m\u001b[0;34m\u001b[0m\u001b[0m\n\u001b[0m\u001b[1;32m    797\u001b[0m \u001b[0;34m\u001b[0m\u001b[0m\n\u001b[1;32m    798\u001b[0m \u001b[0;34m\u001b[0m\u001b[0m\n",
            "\u001b[0;31mKeyboardInterrupt\u001b[0m: "
          ]
        }
      ]
    },
    {
      "cell_type": "code",
      "source": [
        "feature_path = \"gallery/gallery_features/\"\n",
        "file_list = os.listdir(str(feature_path))\n",
        "print(len(file_list))"
      ],
      "metadata": {
        "id": "5-k9HNQNpJWv",
        "outputId": "9c7bdb02-69f7-4868-e652-64ae9aa4b2a0",
        "colab": {
          "base_uri": "https://localhost:8080/"
        }
      },
      "execution_count": 11,
      "outputs": [
        {
          "output_type": "stream",
          "name": "stdout",
          "text": [
            "['13767.jpg.npy', '13901.jpg.npy', '18266.jpg.npy', '3303.jpg.npy', '6693.jpg.npy', '11162.jpg.npy', '11764.jpg.npy', '27809.jpg.npy', '2208.jpg.npy', '5799.jpg.npy', '28391.jpg.npy', '23152.jpg.npy', '22270.jpg.npy', '17017.jpg.npy', '23677.jpg.npy', '17210.jpg.npy', '17226.jpg.npy', '20271.jpg.npy', '9352.jpg.npy', '10815.jpg.npy', '1779.jpg.npy', '7327.jpg.npy', '14917.jpg.npy', '1530.jpg.npy', '21138.jpg.npy', '21710.jpg.npy', '28325.jpg.npy', '24914.jpg.npy', '5193.jpg.npy', '23354.jpg.npy', '13319.jpg.npy', '20680.jpg.npy', '26577.jpg.npy', '27326.jpg.npy', '9522.jpg.npy', '10385.jpg.npy', '16919.jpg.npy', '3124.jpg.npy', '21610.jpg.npy', '997.jpg.npy', '24952.jpg.npy', '16114.jpg.npy', '16627.jpg.npy', '26907.jpg.npy', '9124.jpg.npy', '25312.jpg.npy', '21101.jpg.npy', '14054.jpg.npy', '19757.jpg.npy', '21144.jpg.npy', '11844.jpg.npy', '7205.jpg.npy', '2464.jpg.npy', '16045.jpg.npy', '2218.jpg.npy', '23855.jpg.npy', '16701.jpg.npy', '23716.jpg.npy', '22487.jpg.npy', '15328.jpg.npy', '8560.jpg.npy', '25303.jpg.npy', '19358.jpg.npy', '4206.jpg.npy', '10387.jpg.npy', '9383.jpg.npy', '16100.jpg.npy', '6536.jpg.npy', '12134.jpg.npy', '20939.jpg.npy', '25299.jpg.npy', '4613.jpg.npy', '8845.jpg.npy', '5453.jpg.npy', '10765.jpg.npy', '22091.jpg.npy', '14803.jpg.npy', '8899.jpg.npy', '1469.jpg.npy', '8518.jpg.npy', '21787.jpg.npy', '17237.jpg.npy', '13749.jpg.npy', '24876.jpg.npy', '7755.jpg.npy', '1082.jpg.npy', '11994.jpg.npy', '7207.jpg.npy', '9861.jpg.npy', '11690.jpg.npy', '1717.jpg.npy', '8132.jpg.npy', '15000.jpg.npy', '36.jpg.npy', '27217.jpg.npy', '18590.jpg.npy', '2571.jpg.npy', '8495.jpg.npy', '26204.jpg.npy', '1449.jpg.npy', '7352.jpg.npy', '2582.jpg.npy', '22514.jpg.npy', '16502.jpg.npy', '821.jpg.npy', '2932.jpg.npy', '21812.jpg.npy', '27028.jpg.npy', '10679.jpg.npy', '8612.jpg.npy', '19779.jpg.npy', '112.jpg.npy', '6514.jpg.npy', '6928.jpg.npy', '13463.jpg.npy', '13920.jpg.npy', '12043.jpg.npy', '27649.jpg.npy', '35.jpg.npy', '22636.jpg.npy', '5625.jpg.npy', '28326.jpg.npy', '10002.jpg.npy', '18143.jpg.npy', '7543.jpg.npy', '9638.jpg.npy', '2216.jpg.npy', '19944.jpg.npy', '26578.jpg.npy', '25715.jpg.npy', '2957.jpg.npy', '9763.jpg.npy', '16275.jpg.npy', '26226.jpg.npy', '21264.jpg.npy', '12594.jpg.npy', '18335.jpg.npy', '10755.jpg.npy', '24734.jpg.npy', '12240.jpg.npy', '8450.jpg.npy', '1135.jpg.npy', '17857.jpg.npy', '13897.jpg.npy', '10726.jpg.npy', '6167.jpg.npy', '20646.jpg.npy', '21661.jpg.npy', '5047.jpg.npy', '12807.jpg.npy', '11837.jpg.npy', '3345.jpg.npy', '11767.jpg.npy', '27499.jpg.npy', '7782.jpg.npy', '10986.jpg.npy', '12045.jpg.npy', '25120.jpg.npy', '874.jpg.npy', '14303.jpg.npy', '22619.jpg.npy', '9008.jpg.npy', '24708.jpg.npy', '19624.jpg.npy', '1281.jpg.npy', '28452.jpg.npy', '25650.jpg.npy', '6279.jpg.npy', '13861.jpg.npy', '10917.jpg.npy', '1284.jpg.npy', '3768.jpg.npy', '19103.jpg.npy', '12294.jpg.npy', '17743.jpg.npy', '4286.jpg.npy', '9608.jpg.npy', '26656.jpg.npy', '2383.jpg.npy', '12789.jpg.npy', '11160.jpg.npy', '1914.jpg.npy', '16811.jpg.npy', '25872.jpg.npy', '19263.jpg.npy', '7572.jpg.npy', '4298.jpg.npy', '826.jpg.npy', '16448.jpg.npy', '12414.jpg.npy', '20457.jpg.npy', '22878.jpg.npy', '24849.jpg.npy', '711.jpg.npy', '16109.jpg.npy', '20673.jpg.npy', '18279.jpg.npy', '19808.jpg.npy', '3507.jpg.npy', '26413.jpg.npy', '666.jpg.npy', '6906.jpg.npy', '21616.jpg.npy', '23587.jpg.npy', '8860.jpg.npy', '1848.jpg.npy', '9957.jpg.npy', '9788.jpg.npy', '7408.jpg.npy', '18486.jpg.npy', '20066.jpg.npy', '7776.jpg.npy', '8914.jpg.npy', '25450.jpg.npy', '22128.jpg.npy', '2801.jpg.npy', '10718.jpg.npy', '3531.jpg.npy', '27843.jpg.npy', '15846.jpg.npy', '4056.jpg.npy', '24731.jpg.npy', '827.jpg.npy', '22754.jpg.npy', '4116.jpg.npy', '10051.jpg.npy', '12054.jpg.npy', '15248.jpg.npy', '6947.jpg.npy', '1550.jpg.npy', '1247.jpg.npy', '25572.jpg.npy', '21276.jpg.npy', '24951.jpg.npy', '25929.jpg.npy', '7763.jpg.npy', '8604.jpg.npy', '27535.jpg.npy', '20735.jpg.npy', '25903.jpg.npy', '15728.jpg.npy', '14591.jpg.npy', '16193.jpg.npy', '645.jpg.npy', '24585.jpg.npy', '16850.jpg.npy', '16232.jpg.npy', '516.jpg.npy', '4628.jpg.npy', '22142.jpg.npy', '25320.jpg.npy', '7131.jpg.npy', '22915.jpg.npy', '28486.jpg.npy', '23262.jpg.npy', '8535.jpg.npy', '27564.jpg.npy', '12754.jpg.npy', '27610.jpg.npy', '18020.jpg.npy', '5429.jpg.npy', '12685.jpg.npy', '12900.jpg.npy', '19528.jpg.npy', '2024.jpg.npy', '12629.jpg.npy', '13664.jpg.npy', '10395.jpg.npy', '13360.jpg.npy', '5235.jpg.npy', '16870.jpg.npy', '6698.jpg.npy', '5999.jpg.npy', '10482.jpg.npy', '111.jpg.npy', '4415.jpg.npy', '930.jpg.npy', '21031.jpg.npy', '22580.jpg.npy', '14669.jpg.npy', '15060.jpg.npy', '6160.jpg.npy', '11982.jpg.npy', '12817.jpg.npy', '5164.jpg.npy', '17187.jpg.npy', '14543.jpg.npy', '6473.jpg.npy', '19271.jpg.npy', '19205.jpg.npy', '14581.jpg.npy', '22648.jpg.npy', '13016.jpg.npy', '10324.jpg.npy', '7788.jpg.npy', '24615.jpg.npy', '13518.jpg.npy', '9335.jpg.npy', '18033.jpg.npy', '15832.jpg.npy', '10200.jpg.npy', '27518.jpg.npy', '24570.jpg.npy', '29.jpg.npy', '9929.jpg.npy', '21189.jpg.npy', '7395.jpg.npy', '764.jpg.npy', '300.jpg.npy', '3518.jpg.npy', '14585.jpg.npy', '27295.jpg.npy', '24821.jpg.npy', '14422.jpg.npy', '3590.jpg.npy', '11863.jpg.npy', '8115.jpg.npy', '27051.jpg.npy', '24219.jpg.npy', '24173.jpg.npy', '15384.jpg.npy', '7457.jpg.npy', '14094.jpg.npy', '25177.jpg.npy', '11438.jpg.npy', '23846.jpg.npy', '28294.jpg.npy', '14861.jpg.npy', '24496.jpg.npy', '7418.jpg.npy', '17878.jpg.npy', '16883.jpg.npy', '17502.jpg.npy', '16520.jpg.npy', '13451.jpg.npy', '4614.jpg.npy', '17014.jpg.npy', '6915.jpg.npy', '14087.jpg.npy', '19627.jpg.npy', '3513.jpg.npy', '18619.jpg.npy', '5251.jpg.npy', '20044.jpg.npy', '1027.jpg.npy', '15167.jpg.npy', '3352.jpg.npy', '20323.jpg.npy', '11266.jpg.npy', '11711.jpg.npy', '106.jpg.npy', '21983.jpg.npy', '12391.jpg.npy', '5097.jpg.npy', '7379.jpg.npy', '17566.jpg.npy', '22484.jpg.npy', '2593.jpg.npy', '5681.jpg.npy', '27501.jpg.npy', '6164.jpg.npy', '23984.jpg.npy', '4486.jpg.npy', '10768.jpg.npy', '8712.jpg.npy', '19947.jpg.npy', '15673.jpg.npy', '23498.jpg.npy', '15631.jpg.npy', '12763.jpg.npy', '919.jpg.npy', '23773.jpg.npy', '22665.jpg.npy', '11923.jpg.npy', '26170.jpg.npy', '13474.jpg.npy', '16582.jpg.npy', '7964.jpg.npy', '4163.jpg.npy', '26823.jpg.npy', '24220.jpg.npy', '5685.jpg.npy', '10345.jpg.npy', '12010.jpg.npy', '16936.jpg.npy', '20485.jpg.npy', '24652.jpg.npy', '3486.jpg.npy', '893.jpg.npy', '6444.jpg.npy', '22076.jpg.npy', '19375.jpg.npy', '7534.jpg.npy', '18313.jpg.npy', '22324.jpg.npy', '19962.jpg.npy', '14843.jpg.npy', '17174.jpg.npy', '18644.jpg.npy', '14080.jpg.npy', '18078.jpg.npy', '20641.jpg.npy', '16540.jpg.npy', '11877.jpg.npy', '6517.jpg.npy', '1046.jpg.npy', '22218.jpg.npy', '6511.jpg.npy', '13702.jpg.npy', '20537.jpg.npy', '5349.jpg.npy', '23067.jpg.npy', '27991.jpg.npy', '27899.jpg.npy', '25461.jpg.npy', '19714.jpg.npy', '17038.jpg.npy', '9687.jpg.npy', '18296.jpg.npy', '10233.jpg.npy', '15529.jpg.npy', '14291.jpg.npy', '19202.jpg.npy', '28394.jpg.npy', '21024.jpg.npy', '21648.jpg.npy', '9597.jpg.npy', '12783.jpg.npy', '19793.jpg.npy', '3569.jpg.npy', '6613.jpg.npy', '25511.jpg.npy', '11892.jpg.npy', '11903.jpg.npy', '1631.jpg.npy', '13549.jpg.npy', '14779.jpg.npy', '14061.jpg.npy', '4711.jpg.npy', '15067.jpg.npy', '14434.jpg.npy', '25298.jpg.npy', '1332.jpg.npy', '16646.jpg.npy', '25138.jpg.npy', '12021.jpg.npy', '16319.jpg.npy', '6565.jpg.npy', '17233.jpg.npy', '5561.jpg.npy', '9823.jpg.npy', '13855.jpg.npy', '10486.jpg.npy', '8841.jpg.npy', '5033.jpg.npy', '4993.jpg.npy', '2175.jpg.npy', '8926.jpg.npy', '17764.jpg.npy', '721.jpg.npy', '17752.jpg.npy', '7385.jpg.npy', '13060.jpg.npy', '23316.jpg.npy', '28087.jpg.npy', '5084.jpg.npy', '12686.jpg.npy', '19260.jpg.npy', '8882.jpg.npy', '22390.jpg.npy', '27429.jpg.npy', '13452.jpg.npy', '23421.jpg.npy', '3553.jpg.npy', '28433.jpg.npy', '18152.jpg.npy', '4078.jpg.npy', '23969.jpg.npy', '25882.jpg.npy', '2742.jpg.npy', '24769.jpg.npy', '2815.jpg.npy', '22682.jpg.npy', '17371.jpg.npy', '17920.jpg.npy', '3155.jpg.npy', '16635.jpg.npy', '1557.jpg.npy', '20045.jpg.npy', '12430.jpg.npy', '1669.jpg.npy', '8682.jpg.npy', '20465.jpg.npy', '567.jpg.npy', '461.jpg.npy', '23869.jpg.npy', '26609.jpg.npy', '16154.jpg.npy', '11706.jpg.npy', '17611.jpg.npy', '5004.jpg.npy', '12635.jpg.npy', '6857.jpg.npy', '6163.jpg.npy', '1892.jpg.npy', '17882.jpg.npy', '15473.jpg.npy', '23564.jpg.npy', '4853.jpg.npy', '1061.jpg.npy', '19817.jpg.npy', '18744.jpg.npy', '12287.jpg.npy', '8698.jpg.npy', '23887.jpg.npy', '24118.jpg.npy', '16698.jpg.npy', '25262.jpg.npy', '11604.jpg.npy', '11867.jpg.npy', '19772.jpg.npy', '8708.jpg.npy', '6046.jpg.npy', '27063.jpg.npy', '3045.jpg.npy', '15303.jpg.npy', '3581.jpg.npy', '26977.jpg.npy', '11331.jpg.npy', '28016.jpg.npy', '17106.jpg.npy', '5405.jpg.npy', '19002.jpg.npy', '1147.jpg.npy', '11709.jpg.npy', '20912.jpg.npy', '1168.jpg.npy', '23021.jpg.npy', '14656.jpg.npy', '21994.jpg.npy', '12001.jpg.npy', '21753.jpg.npy', '12056.jpg.npy', '17780.jpg.npy', '16949.jpg.npy', '5240.jpg.npy', '16150.jpg.npy', '27687.jpg.npy', '14695.jpg.npy', '20530.jpg.npy', '23065.jpg.npy', '17129.jpg.npy', '9042.jpg.npy', '18547.jpg.npy', '20949.jpg.npy', '19102.jpg.npy', '26877.jpg.npy', '5604.jpg.npy', '18731.jpg.npy', '26795.jpg.npy', '5987.jpg.npy', '6950.jpg.npy', '298.jpg.npy', '20501.jpg.npy', '20893.jpg.npy', '18519.jpg.npy', '6166.jpg.npy', '22308.jpg.npy', '27628.jpg.npy', '1689.jpg.npy', '7361.jpg.npy', '13990.jpg.npy', '22431.jpg.npy', '1860.jpg.npy', '12756.jpg.npy', '26593.jpg.npy', '23030.jpg.npy', '12146.jpg.npy', '7442.jpg.npy', '12815.jpg.npy', '13403.jpg.npy', '27577.jpg.npy', '4868.jpg.npy', '3183.jpg.npy', '18898.jpg.npy', '7943.jpg.npy', '11827.jpg.npy', '20590.jpg.npy', '21233.jpg.npy', '4389.jpg.npy', '8898.jpg.npy', '2760.jpg.npy', '13339.jpg.npy', '15513.jpg.npy', '15567.jpg.npy', '3024.jpg.npy', '10522.jpg.npy', '18653.jpg.npy', '12601.jpg.npy', '5986.jpg.npy', '7083.jpg.npy', '6872.jpg.npy', '16894.jpg.npy', '9123.jpg.npy', '22117.jpg.npy', '19618.jpg.npy', '26348.jpg.npy', '25938.jpg.npy', '12556.jpg.npy', '8281.jpg.npy', '15767.jpg.npy', '18785.jpg.npy', '11487.jpg.npy', '14509.jpg.npy', '23409.jpg.npy', '10531.jpg.npy', '17303.jpg.npy', '12153.jpg.npy', '23104.jpg.npy', '24825.jpg.npy', '2676.jpg.npy', '14867.jpg.npy', '11570.jpg.npy', '27297.jpg.npy', '13993.jpg.npy', '14430.jpg.npy', '18966.jpg.npy', '22801.jpg.npy', '16087.jpg.npy', '28398.jpg.npy', '7811.jpg.npy', '2883.jpg.npy', '27656.jpg.npy', '10195.jpg.npy', '495.jpg.npy', '7612.jpg.npy', '23546.jpg.npy', '14300.jpg.npy', '9951.jpg.npy', '7537.jpg.npy', '12007.jpg.npy', '5877.jpg.npy', '17328.jpg.npy', '18867.jpg.npy', '23660.jpg.npy', '27198.jpg.npy', '27272.jpg.npy', '25136.jpg.npy', '27042.jpg.npy', '678.jpg.npy', '18596.jpg.npy', '27012.jpg.npy', '2378.jpg.npy', '24605.jpg.npy', '9442.jpg.npy', '11014.jpg.npy', '22143.jpg.npy', '1069.jpg.npy', '6092.jpg.npy', '8558.jpg.npy', '470.jpg.npy', '23175.jpg.npy', '726.jpg.npy', '18289.jpg.npy', '12029.jpg.npy', '26647.jpg.npy', '19196.jpg.npy', '15288.jpg.npy', '3633.jpg.npy', '28348.jpg.npy', '10524.jpg.npy', '8528.jpg.npy', '23804.jpg.npy', '14297.jpg.npy', '21976.jpg.npy', '25614.jpg.npy', '6331.jpg.npy', '25534.jpg.npy', '18184.jpg.npy', '12722.jpg.npy', '17312.jpg.npy', '20961.jpg.npy', '27284.jpg.npy', '18859.jpg.npy', '25522.jpg.npy', '27410.jpg.npy', '10635.jpg.npy', '4629.jpg.npy', '5960.jpg.npy', '17507.jpg.npy', '11283.jpg.npy', '1095.jpg.npy', '2071.jpg.npy', '6640.jpg.npy', '14781.jpg.npy', '17934.jpg.npy', '9388.jpg.npy', '15571.jpg.npy', '18470.jpg.npy', '22433.jpg.npy', '14854.jpg.npy', '21946.jpg.npy', '9202.jpg.npy', '6864.jpg.npy', '21472.jpg.npy', '7736.jpg.npy', '25869.jpg.npy', '19346.jpg.npy', '23977.jpg.npy', '27014.jpg.npy', '3893.jpg.npy', '23923.jpg.npy', '12092.jpg.npy', '7652.jpg.npy', '26616.jpg.npy', '4109.jpg.npy', '7175.jpg.npy', '27840.jpg.npy', '4889.jpg.npy', '25103.jpg.npy', '14839.jpg.npy', '10758.jpg.npy', '16138.jpg.npy', '19432.jpg.npy', '22557.jpg.npy', '9255.jpg.npy', '7030.jpg.npy', '4272.jpg.npy', '17232.jpg.npy', '24536.jpg.npy', '13294.jpg.npy', '25307.jpg.npy', '17389.jpg.npy', '6525.jpg.npy', '24636.jpg.npy', '22509.jpg.npy', '26487.jpg.npy', '8734.jpg.npy', '1080.jpg.npy', '14135.jpg.npy', '8122.jpg.npy', '3742.jpg.npy', '8322.jpg.npy', '9457.jpg.npy', '8314.jpg.npy', '5767.jpg.npy', '104.jpg.npy', '11041.jpg.npy', '2884.jpg.npy', '1292.jpg.npy', '27646.jpg.npy', '7144.jpg.npy', '20725.jpg.npy', '5226.jpg.npy', '2713.jpg.npy', '12014.jpg.npy', '27454.jpg.npy', '18939.jpg.npy', '207.jpg.npy', '26914.jpg.npy', '10557.jpg.npy', '14481.jpg.npy', '7773.jpg.npy', '7632.jpg.npy', '17884.jpg.npy', '9708.jpg.npy', '2600.jpg.npy', '26236.jpg.npy', '18661.jpg.npy', '2674.jpg.npy', '123.jpg.npy', '15835.jpg.npy', '18034.jpg.npy', '14408.jpg.npy', '9782.jpg.npy', '18449.jpg.npy', '18677.jpg.npy', '5580.jpg.npy', '4819.jpg.npy', '3536.jpg.npy', '23231.jpg.npy', '14701.jpg.npy', '10371.jpg.npy', '27861.jpg.npy', '3683.jpg.npy', '23636.jpg.npy', '16663.jpg.npy', '22153.jpg.npy', '11600.jpg.npy', '7283.jpg.npy', '3896.jpg.npy', '5751.jpg.npy', '19541.jpg.npy', '3464.jpg.npy', '6522.jpg.npy', '18810.jpg.npy', '13334.jpg.npy', '6414.jpg.npy', '12212.jpg.npy', '24638.jpg.npy', '4845.jpg.npy', '9777.jpg.npy', '17805.jpg.npy', '14454.jpg.npy', '11683.jpg.npy', '23184.jpg.npy', '11375.jpg.npy', '14357.jpg.npy', '28373.jpg.npy', '21026.jpg.npy', '23753.jpg.npy', '24534.jpg.npy', '16052.jpg.npy', '7387.jpg.npy', '28084.jpg.npy', '820.jpg.npy', '26308.jpg.npy', '99.jpg.npy', '7687.jpg.npy', '14694.jpg.npy', '11879.jpg.npy', '19553.jpg.npy', '24603.jpg.npy', '15615.jpg.npy', '16106.jpg.npy', '4892.jpg.npy', '7455.jpg.npy', '15856.jpg.npy', '28421.jpg.npy', '20907.jpg.npy', '16069.jpg.npy', '7965.jpg.npy', '12447.jpg.npy', '24657.jpg.npy', '24452.jpg.npy', '24813.jpg.npy', '10773.jpg.npy', '11261.jpg.npy', '23547.jpg.npy', '5165.jpg.npy', '7199.jpg.npy', '11876.jpg.npy', '598.jpg.npy', '13712.jpg.npy', '74.jpg.npy', '11917.jpg.npy', '6922.jpg.npy', '1998.jpg.npy', '5754.jpg.npy', '26556.jpg.npy', '16059.jpg.npy', '20169.jpg.npy', '6402.jpg.npy', '3861.jpg.npy', '14102.jpg.npy', '12346.jpg.npy', '10967.jpg.npy', '23504.jpg.npy', '12040.jpg.npy', '286.jpg.npy', '6333.jpg.npy', '13000.jpg.npy', '11468.jpg.npy', '8937.jpg.npy', '22654.jpg.npy', '18353.jpg.npy', '26457.jpg.npy', '5691.jpg.npy', '20684.jpg.npy', '25070.jpg.npy', '14911.jpg.npy', '9719.jpg.npy', '7237.jpg.npy', '9342.jpg.npy', '14310.jpg.npy', '12668.jpg.npy', '2463.jpg.npy', '25860.jpg.npy', '12457.jpg.npy', '16418.jpg.npy', '23868.jpg.npy', '28031.jpg.npy', '25285.jpg.npy', '2403.jpg.npy', '23183.jpg.npy', '26412.jpg.npy', '25485.jpg.npy', '18471.jpg.npy', '5280.jpg.npy', '21752.jpg.npy', '20280.jpg.npy', '26602.jpg.npy', '16107.jpg.npy', '17152.jpg.npy', '21317.jpg.npy', '4938.jpg.npy', '25257.jpg.npy', '5020.jpg.npy', '12368.jpg.npy', '22909.jpg.npy', '13114.jpg.npy', '15003.jpg.npy', '25575.jpg.npy', '16115.jpg.npy', '16845.jpg.npy', '27311.jpg.npy', '26779.jpg.npy', '18082.jpg.npy', '23585.jpg.npy', '3442.jpg.npy', '18632.jpg.npy', '27199.jpg.npy', '21986.jpg.npy', '3491.jpg.npy', '21933.jpg.npy', '28435.jpg.npy', '10490.jpg.npy', '28007.jpg.npy', '22062.jpg.npy', '310.jpg.npy', '28386.jpg.npy', '19702.jpg.npy', '13070.jpg.npy', '3730.jpg.npy', '13328.jpg.npy', '24907.jpg.npy', '16.jpg.npy', '4693.jpg.npy', '2698.jpg.npy', '20717.jpg.npy', '23972.jpg.npy', '3111.jpg.npy', '117.jpg.npy', '11290.jpg.npy', '23151.jpg.npy', '25748.jpg.npy', '13260.jpg.npy', '13303.jpg.npy', '6655.jpg.npy', '19937.jpg.npy', '22100.jpg.npy', '1967.jpg.npy', '5600.jpg.npy', '3077.jpg.npy', '24187.jpg.npy', '14240.jpg.npy', '28376.jpg.npy', '21834.jpg.npy', '4261.jpg.npy', '9079.jpg.npy', '13148.jpg.npy', '17199.jpg.npy', '8610.jpg.npy', '10402.jpg.npy', '19844.jpg.npy', '16672.jpg.npy', '27216.jpg.npy', '8668.jpg.npy', '25640.jpg.npy', '26949.jpg.npy', '4821.jpg.npy', '27767.jpg.npy', '23707.jpg.npy', '9343.jpg.npy', '14222.jpg.npy', '24973.jpg.npy', '22186.jpg.npy', '4450.jpg.npy', '23830.jpg.npy', '13905.jpg.npy', '16185.jpg.npy', '13472.jpg.npy', '6128.jpg.npy', '4082.jpg.npy', '12190.jpg.npy', '1224.jpg.npy', '18883.jpg.npy', '26126.jpg.npy', '20274.jpg.npy', '15034.jpg.npy', '22247.jpg.npy', '1142.jpg.npy', '12604.jpg.npy', '15847.jpg.npy', '844.jpg.npy', '1864.jpg.npy', '23381.jpg.npy', '18591.jpg.npy', '20255.jpg.npy', '11514.jpg.npy', '10450.jpg.npy', '2835.jpg.npy', '12874.jpg.npy', '15930.jpg.npy', '27574.jpg.npy', '7969.jpg.npy', '11499.jpg.npy', '3278.jpg.npy', '6312.jpg.npy', '11363.jpg.npy', '23214.jpg.npy', '23666.jpg.npy', '19958.jpg.npy', '23404.jpg.npy', '9627.jpg.npy', '13051.jpg.npy', '14425.jpg.npy', '13363.jpg.npy', '1141.jpg.npy', '28297.jpg.npy', '6854.jpg.npy', '15476.jpg.npy', '18855.jpg.npy', '26549.jpg.npy', '14121.jpg.npy', '17851.jpg.npy', '17986.jpg.npy', '11086.jpg.npy', '26419.jpg.npy', '25535.jpg.npy', '26091.jpg.npy', '22652.jpg.npy', '12181.jpg.npy', '19299.jpg.npy', '19239.jpg.npy', '13457.jpg.npy', '17603.jpg.npy', '14287.jpg.npy', '7898.jpg.npy', '27129.jpg.npy', '11472.jpg.npy', '3090.jpg.npy', '27629.jpg.npy', '19389.jpg.npy', '12632.jpg.npy', '676.jpg.npy', '22381.jpg.npy', '5367.jpg.npy', '27666.jpg.npy', '13241.jpg.npy', '8328.jpg.npy', '6913.jpg.npy', '24130.jpg.npy', '19855.jpg.npy', '24943.jpg.npy', '15261.jpg.npy', '6723.jpg.npy', '3107.jpg.npy', '241.jpg.npy', '7279.jpg.npy', '1191.jpg.npy', '27107.jpg.npy', '18501.jpg.npy', '18497.jpg.npy', '10731.jpg.npy', '5408.jpg.npy', '26548.jpg.npy', '28235.jpg.npy', '27039.jpg.npy', '8138.jpg.npy', '12986.jpg.npy', '15169.jpg.npy', '8941.jpg.npy', '23927.jpg.npy', '5632.jpg.npy', '7389.jpg.npy', '5183.jpg.npy', '12616.jpg.npy', '20697.jpg.npy', '20343.jpg.npy', '1812.jpg.npy', '14328.jpg.npy', '5281.jpg.npy', '2301.jpg.npy', '10215.jpg.npy', '14369.jpg.npy', '24323.jpg.npy', '25617.jpg.npy', '2011.jpg.npy', '24375.jpg.npy', '8127.jpg.npy', '9889.jpg.npy', '18512.jpg.npy', '15979.jpg.npy', '8332.jpg.npy', '3247.jpg.npy', '14092.jpg.npy', '8599.jpg.npy', '8699.jpg.npy', '19395.jpg.npy', '22303.jpg.npy', '17272.jpg.npy', '12762.jpg.npy', '730.jpg.npy', '2187.jpg.npy', '6643.jpg.npy', '19191.jpg.npy', '22105.jpg.npy', '21474.jpg.npy', '8271.jpg.npy', '11198.jpg.npy', '19066.jpg.npy', '17957.jpg.npy', '26230.jpg.npy', '24604.jpg.npy', '19008.jpg.npy', '6403.jpg.npy', '514.jpg.npy', '24799.jpg.npy', '24562.jpg.npy', '1649.jpg.npy', '8927.jpg.npy', '26793.jpg.npy', '27494.jpg.npy', '16723.jpg.npy', '5374.jpg.npy', '17830.jpg.npy', '23556.jpg.npy', '23513.jpg.npy', '19539.jpg.npy', '10179.jpg.npy', '28357.jpg.npy', '3692.jpg.npy', '24995.jpg.npy', '13616.jpg.npy', '23203.jpg.npy', '8728.jpg.npy', '27575.jpg.npy', '363.jpg.npy', '9453.jpg.npy', '5730.jpg.npy', '4773.jpg.npy', '22853.jpg.npy', '16803.jpg.npy', '9730.jpg.npy', '7821.jpg.npy', '10034.jpg.npy', '10849.jpg.npy', '24336.jpg.npy', '2226.jpg.npy', '17411.jpg.npy', '21221.jpg.npy', '8715.jpg.npy', '1442.jpg.npy', '10774.jpg.npy', '6471.jpg.npy', '14078.jpg.npy', '8302.jpg.npy', '4896.jpg.npy', '27981.jpg.npy', '3496.jpg.npy', '10086.jpg.npy', '6463.jpg.npy', '19380.jpg.npy', '13822.jpg.npy', '14073.jpg.npy', '10184.jpg.npy', '20915.jpg.npy', '12080.jpg.npy', '19551.jpg.npy', '370.jpg.npy', '12867.jpg.npy', '28140.jpg.npy', '11825.jpg.npy', '27228.jpg.npy', '20688.jpg.npy', '21808.jpg.npy', '28320.jpg.npy', '14341.jpg.npy', '15458.jpg.npy', '17670.jpg.npy', '16508.jpg.npy', '24779.jpg.npy', '21462.jpg.npy', '1357.jpg.npy', '15597.jpg.npy', '26165.jpg.npy', '18079.jpg.npy', '3473.jpg.npy', '26652.jpg.npy', '1307.jpg.npy', '12719.jpg.npy', '1094.jpg.npy', '2462.jpg.npy', '21839.jpg.npy', '12025.jpg.npy', '14633.jpg.npy', '23275.jpg.npy', '15715.jpg.npy', '15470.jpg.npy', '11602.jpg.npy', '14057.jpg.npy', '1431.jpg.npy', '2926.jpg.npy', '16290.jpg.npy', '9394.jpg.npy', '11942.jpg.npy', '4870.jpg.npy', '21207.jpg.npy', '21426.jpg.npy', '26761.jpg.npy', '24292.jpg.npy', '22888.jpg.npy', '4099.jpg.npy', '1395.jpg.npy', '16279.jpg.npy', '20080.jpg.npy', '4244.jpg.npy', '21717.jpg.npy', '471.jpg.npy', '21232.jpg.npy', '1310.jpg.npy', '8107.jpg.npy', '4826.jpg.npy', '23574.jpg.npy', '11281.jpg.npy', '26749.jpg.npy', '25678.jpg.npy', '6889.jpg.npy', '25776.jpg.npy', '21604.jpg.npy', '24394.jpg.npy', '10035.jpg.npy', '15955.jpg.npy', '473.jpg.npy', '12218.jpg.npy', '23410.jpg.npy', '18284.jpg.npy', '22131.jpg.npy', '22345.jpg.npy', '11788.jpg.npy', '21601.jpg.npy', '8693.jpg.npy', '18720.jpg.npy', '19751.jpg.npy', '4985.jpg.npy', '20023.jpg.npy', '25014.jpg.npy', '14810.jpg.npy', '23648.jpg.npy', '14262.jpg.npy', '13097.jpg.npy', '2665.jpg.npy', '7082.jpg.npy', '20050.jpg.npy', '17559.jpg.npy', '5655.jpg.npy', '11159.jpg.npy', '23966.jpg.npy', '16817.jpg.npy', '2178.jpg.npy', '8476.jpg.npy', '20722.jpg.npy', '12398.jpg.npy', '640.jpg.npy', '7052.jpg.npy', '20432.jpg.npy', '8406.jpg.npy', '23757.jpg.npy', '11452.jpg.npy', '25950.jpg.npy', '19569.jpg.npy', '3506.jpg.npy', '58.jpg.npy', '18454.jpg.npy', '7441.jpg.npy', '26562.jpg.npy', '12018.jpg.npy', '588.jpg.npy', '7749.jpg.npy', '24378.jpg.npy', '8694.jpg.npy', '18391.jpg.npy', '15168.jpg.npy', '24569.jpg.npy', '13043.jpg.npy', '6399.jpg.npy', '27695.jpg.npy', '8942.jpg.npy', '6257.jpg.npy', '6571.jpg.npy', '19073.jpg.npy', '3500.jpg.npy', '13537.jpg.npy', '3740.jpg.npy', '9391.jpg.npy', '3249.jpg.npy', '26152.jpg.npy', '7437.jpg.npy', '3892.jpg.npy', '15830.jpg.npy', '13278.jpg.npy', '13714.jpg.npy', '28324.jpg.npy', '7726.jpg.npy', '24830.jpg.npy', '12013.jpg.npy', '7650.jpg.npy', '10905.jpg.npy', '8562.jpg.npy', '5912.jpg.npy', '9685.jpg.npy', '13871.jpg.npy', '23965.jpg.npy', '5643.jpg.npy', '16721.jpg.npy', '2058.jpg.npy', '15166.jpg.npy', '18392.jpg.npy', '17064.jpg.npy', '22477.jpg.npy', '3647.jpg.npy', '21328.jpg.npy', '19470.jpg.npy', '12775.jpg.npy', '322.jpg.npy', '10495.jpg.npy', '24980.jpg.npy', '18866.jpg.npy', '1862.jpg.npy', '23000.jpg.npy', '22468.jpg.npy', '16226.jpg.npy', '25046.jpg.npy', '7223.jpg.npy', '4903.jpg.npy', '3285.jpg.npy', '15799.jpg.npy', '17344.jpg.npy', '6119.jpg.npy', '4482.jpg.npy', '15698.jpg.npy', '2027.jpg.npy', '15614.jpg.npy', '9244.jpg.npy', '16462.jpg.npy', '15934.jpg.npy', '6577.jpg.npy', '3147.jpg.npy', '18506.jpg.npy', '27662.jpg.npy', '15504.jpg.npy', '3190.jpg.npy', '21949.jpg.npy', '10368.jpg.npy', '16274.jpg.npy', '441.jpg.npy', '15587.jpg.npy', '13693.jpg.npy', '5373.jpg.npy', '25952.jpg.npy', '1083.jpg.npy', '14704.jpg.npy', '7295.jpg.npy', '27680.jpg.npy', '10152.jpg.npy', '19276.jpg.npy', '14508.jpg.npy', '28011.jpg.npy', '1737.jpg.npy', '22609.jpg.npy', '12696.jpg.npy', '20293.jpg.npy', '14738.jpg.npy', '18667.jpg.npy', '19843.jpg.npy', '101.jpg.npy', '17962.jpg.npy', '19763.jpg.npy', '8258.jpg.npy', '17699.jpg.npy', '6771.jpg.npy', '23557.jpg.npy', '27370.jpg.npy', '24344.jpg.npy', '18194.jpg.npy', '23501.jpg.npy', '8598.jpg.npy', '3568.jpg.npy', '9598.jpg.npy', '26027.jpg.npy', '14670.jpg.npy', '614.jpg.npy', '17676.jpg.npy', '15340.jpg.npy', '14100.jpg.npy', '12767.jpg.npy', '3707.jpg.npy', '2307.jpg.npy', '17231.jpg.npy', '16678.jpg.npy', '9683.jpg.npy', '16898.jpg.npy', '22806.jpg.npy', '22383.jpg.npy', '28149.jpg.npy', '2227.jpg.npy', '22709.jpg.npy', '25878.jpg.npy', '1456.jpg.npy', '2385.jpg.npy', '15838.jpg.npy', '10792.jpg.npy', '20872.jpg.npy', '24910.jpg.npy', '6598.jpg.npy', '21770.jpg.npy', '725.jpg.npy', '25029.jpg.npy', '10736.jpg.npy', '26767.jpg.npy', '3066.jpg.npy', '16815.jpg.npy', '24727.jpg.npy', '10006.jpg.npy', '17809.jpg.npy', '1618.jpg.npy', '24238.jpg.npy', '20268.jpg.npy', '26553.jpg.npy', '18909.jpg.npy', '606.jpg.npy', '16317.jpg.npy', '27125.jpg.npy', '12095.jpg.npy', '19998.jpg.npy', '16937.jpg.npy', '23704.jpg.npy', '9232.jpg.npy', '24726.jpg.npy', '921.jpg.npy', '21556.jpg.npy', '28340.jpg.npy', '2824.jpg.npy', '1030.jpg.npy', '16881.jpg.npy', '12799.jpg.npy', '12083.jpg.npy', '3926.jpg.npy', '10375.jpg.npy', '24977.jpg.npy', '16648.jpg.npy', '25056.jpg.npy', '3866.jpg.npy', '15173.jpg.npy', '3705.jpg.npy', '22670.jpg.npy', '13986.jpg.npy', '119.jpg.npy', '28069.jpg.npy', '13661.jpg.npy', '16905.jpg.npy', '11488.jpg.npy', '14037.jpg.npy', '9599.jpg.npy', '25675.jpg.npy', '27644.jpg.npy', '18960.jpg.npy', '26409.jpg.npy', '23463.jpg.npy', '19742.jpg.npy', '6697.jpg.npy', '14842.jpg.npy', '11925.jpg.npy', '19427.jpg.npy', '2231.jpg.npy', '12647.jpg.npy', '19967.jpg.npy', '15628.jpg.npy', '16514.jpg.npy', '2851.jpg.npy', '12086.jpg.npy', '9026.jpg.npy', '19105.jpg.npy', '3235.jpg.npy', '25658.jpg.npy', '18728.jpg.npy', '11251.jpg.npy', '28177.jpg.npy', '8135.jpg.npy', '11588.jpg.npy', '18076.jpg.npy', '4516.jpg.npy', '9508.jpg.npy', '1468.jpg.npy', '6488.jpg.npy', '8045.jpg.npy', '5163.jpg.npy', '24735.jpg.npy', '23197.jpg.npy', '26420.jpg.npy', '10351.jpg.npy', '9575.jpg.npy', '20755.jpg.npy', '13885.jpg.npy', '19207.jpg.npy', '20650.jpg.npy', '3626.jpg.npy', '5628.jpg.npy', '25504.jpg.npy', '19970.jpg.npy', '27263.jpg.npy', '9250.jpg.npy', '22972.jpg.npy', '21058.jpg.npy', '22078.jpg.npy', '1726.jpg.npy', '243.jpg.npy', '4890.jpg.npy', '1321.jpg.npy', '17360.jpg.npy', '6109.jpg.npy', '6256.jpg.npy', '18592.jpg.npy', '26155.jpg.npy', '19023.jpg.npy', '23367.jpg.npy', '3591.jpg.npy', '559.jpg.npy', '25073.jpg.npy', '15894.jpg.npy', '6123.jpg.npy', '25859.jpg.npy', '11518.jpg.npy', '10634.jpg.npy', '2224.jpg.npy', '26383.jpg.npy', '2782.jpg.npy', '15190.jpg.npy', '3782.jpg.npy', '21964.jpg.npy', '2364.jpg.npy', '7787.jpg.npy', '26337.jpg.npy', '26327.jpg.npy', '15892.jpg.npy', '10369.jpg.npy', '19222.jpg.npy', '20458.jpg.npy', '4799.jpg.npy', '13044.jpg.npy', '18035.jpg.npy', '25148.jpg.npy', '25862.jpg.npy', '10030.jpg.npy', '21071.jpg.npy', '7942.jpg.npy', '12791.jpg.npy', '6014.jpg.npy', '4310.jpg.npy', '5929.jpg.npy', '20930.jpg.npy', '18648.jpg.npy', '5443.jpg.npy', '25246.jpg.npy', '4045.jpg.npy', '21886.jpg.npy', '2631.jpg.npy', '17049.jpg.npy', '2769.jpg.npy', '18630.jpg.npy', '26439.jpg.npy', '7180.jpg.npy', '24643.jpg.npy', '28355.jpg.npy', '9809.jpg.npy', '6305.jpg.npy', '7686.jpg.npy', '28231.jpg.npy', '14116.jpg.npy', '3295.jpg.npy', '7520.jpg.npy', '26185.jpg.npy', '24230.jpg.npy', '8072.jpg.npy', '19499.jpg.npy', '2038.jpg.npy', '4861.jpg.npy', '11504.jpg.npy', '7364.jpg.npy', '26194.jpg.npy', '22432.jpg.npy', '11669.jpg.npy', '11465.jpg.npy', '10325.jpg.npy', '25947.jpg.npy', '12780.jpg.npy', '14322.jpg.npy', '8648.jpg.npy', '16152.jpg.npy', '24355.jpg.npy', '14347.jpg.npy', '2471.jpg.npy', '17459.jpg.npy', '10485.jpg.npy', '23155.jpg.npy', '7601.jpg.npy', '20489.jpg.npy', '5678.jpg.npy', '25985.jpg.npy', '10595.jpg.npy', '16295.jpg.npy', '8993.jpg.npy', '4712.jpg.npy', '3311.jpg.npy', '18895.jpg.npy', '13348.jpg.npy', '16316.jpg.npy', '19801.jpg.npy', '2033.jpg.npy', '11000.jpg.npy', '8798.jpg.npy', '28287.jpg.npy', '26286.jpg.npy', '4730.jpg.npy', '3678.jpg.npy', '5737.jpg.npy', '3550.jpg.npy', '28040.jpg.npy', '15143.jpg.npy', '15549.jpg.npy', '10383.jpg.npy', '3644.jpg.npy', '15762.jpg.npy', '17710.jpg.npy', '5230.jpg.npy', '4199.jpg.npy', '9762.jpg.npy', '13869.jpg.npy', '8641.jpg.npy', '20101.jpg.npy', '687.jpg.npy', '22813.jpg.npy', '22899.jpg.npy', '26430.jpg.npy', '10214.jpg.npy', '28239.jpg.npy', '10564.jpg.npy', '517.jpg.npy', '6873.jpg.npy', '7523.jpg.npy', '20895.jpg.npy', '15975.jpg.npy', '28092.jpg.npy', '5484.jpg.npy', '2439.jpg.npy', '17842.jpg.npy', '25069.jpg.npy', '7533.jpg.npy', '5401.jpg.npy', '18725.jpg.npy', '26146.jpg.npy', '12137.jpg.npy', '13571.jpg.npy', '24364.jpg.npy', '4915.jpg.npy', '22802.jpg.npy', '10582.jpg.npy', '8566.jpg.npy', '13252.jpg.npy', '25532.jpg.npy', '10162.jpg.npy', '777.jpg.npy', '24198.jpg.npy', '24579.jpg.npy', '1031.jpg.npy', '10874.jpg.npy', '7127.jpg.npy', '5642.jpg.npy', '27679.jpg.npy', '17602.jpg.npy', '4119.jpg.npy', '538.jpg.npy', '8928.jpg.npy', '1722.jpg.npy', '26109.jpg.npy', '11894.jpg.npy', '23146.jpg.npy', '13110.jpg.npy', '10545.jpg.npy', '19949.jpg.npy', '17114.jpg.npy', '25766.jpg.npy', '4703.jpg.npy', '699.jpg.npy', '12628.jpg.npy', '1019.jpg.npy', '18339.jpg.npy', '5593.jpg.npy', '9780.jpg.npy', '4083.jpg.npy', '19847.jpg.npy', '2026.jpg.npy', '1814.jpg.npy', '16242.jpg.npy', '22354.jpg.npy', '9973.jpg.npy', '1900.jpg.npy', '6003.jpg.npy', '21542.jpg.npy', '3281.jpg.npy', '21262.jpg.npy', '27937.jpg.npy', '18356.jpg.npy', '5817.jpg.npy', '27616.jpg.npy', '28410.jpg.npy', '24366.jpg.npy', '17190.jpg.npy', '23746.jpg.npy', '4094.jpg.npy', '14729.jpg.npy', '1248.jpg.npy', '16596.jpg.npy', '16578.jpg.npy', '4956.jpg.npy', '8600.jpg.npy', '5154.jpg.npy', '20791.jpg.npy', '3326.jpg.npy', '7949.jpg.npy', '17202.jpg.npy', '5187.jpg.npy', '24346.jpg.npy', '16118.jpg.npy', '22778.jpg.npy', '4044.jpg.npy', '3625.jpg.npy', '15824.jpg.npy', '27048.jpg.npy', '27891.jpg.npy', '11064.jpg.npy', '20769.jpg.npy', '28358.jpg.npy', '17675.jpg.npy', '4759.jpg.npy', '15983.jpg.npy', '18008.jpg.npy', '20022.jpg.npy', '23973.jpg.npy', '23576.jpg.npy', '12562.jpg.npy', '19229.jpg.npy', '2355.jpg.npy', '16187.jpg.npy', '4615.jpg.npy', '25052.jpg.npy', '14521.jpg.npy', '24942.jpg.npy', '14686.jpg.npy', '17622.jpg.npy', '8722.jpg.npy', '6653.jpg.npy', '24588.jpg.npy', '6082.jpg.npy', '6573.jpg.npy', '10290.jpg.npy', '9015.jpg.npy', '22135.jpg.npy', '799.jpg.npy', '26801.jpg.npy', '3784.jpg.npy', '21714.jpg.npy', '6809.jpg.npy', '7808.jpg.npy', '12630.jpg.npy', '19941.jpg.npy', '11298.jpg.npy', '9252.jpg.npy', '6669.jpg.npy', '20644.jpg.npy', '24832.jpg.npy', '13523.jpg.npy', '22234.jpg.npy', '11115.jpg.npy', '16108.jpg.npy', '17405.jpg.npy', '5432.jpg.npy', '11763.jpg.npy', '22686.jpg.npy', '776.jpg.npy', '25845.jpg.npy', '17588.jpg.npy', '5630.jpg.npy', '6850.jpg.npy', '24446.jpg.npy', '15837.jpg.npy', '3408.jpg.npy', '12318.jpg.npy', '26434.jpg.npy', '16738.jpg.npy', '16736.jpg.npy', '5748.jpg.npy', '27497.jpg.npy', '4441.jpg.npy', '16424.jpg.npy', '25202.jpg.npy', '5551.jpg.npy', '24786.jpg.npy', '417.jpg.npy', '20812.jpg.npy', '5794.jpg.npy', '12168.jpg.npy', '13050.jpg.npy', '114.jpg.npy', '15590.jpg.npy', '20687.jpg.npy', '9184.jpg.npy', '9634.jpg.npy', '5592.jpg.npy', '9756.jpg.npy', '969.jpg.npy', '22096.jpg.npy', '16636.jpg.npy', '18495.jpg.npy', '26943.jpg.npy', '16547.jpg.npy', '24415.jpg.npy', '28280.jpg.npy', '26780.jpg.npy', '505.jpg.npy', '9563.jpg.npy', '10352.jpg.npy', '24970.jpg.npy', '11869.jpg.npy', '1120.jpg.npy', '6687.jpg.npy', '12332.jpg.npy', '8079.jpg.npy', '2399.jpg.npy', '6720.jpg.npy', '11214.jpg.npy', '686.jpg.npy', '3317.jpg.npy', '24047.jpg.npy', '600.jpg.npy', '14446.jpg.npy', '8243.jpg.npy', '22051.jpg.npy', '13066.jpg.npy', '13567.jpg.npy', '4692.jpg.npy', '3386.jpg.npy', '2553.jpg.npy', '24572.jpg.npy', '24205.jpg.npy', '3539.jpg.npy', '19572.jpg.npy', '15410.jpg.npy', '18051.jpg.npy', '3910.jpg.npy', '7216.jpg.npy', '20272.jpg.npy', '26770.jpg.npy', '25335.jpg.npy', '18757.jpg.npy', '9578.jpg.npy', '5017.jpg.npy', '19594.jpg.npy', '682.jpg.npy', '23390.jpg.npy', '1694.jpg.npy', '4847.jpg.npy', '7355.jpg.npy', '23596.jpg.npy', '3547.jpg.npy', '2670.jpg.npy', '12036.jpg.npy', '18975.jpg.npy', '17019.jpg.npy', '6654.jpg.npy', '19589.jpg.npy', '24229.jpg.npy', '20645.jpg.npy', '5944.jpg.npy', '25707.jpg.npy', '19786.jpg.npy', '13663.jpg.npy', '6293.jpg.npy', '12053.jpg.npy', '1157.jpg.npy', '12417.jpg.npy', '18100.jpg.npy', '16690.jpg.npy', '7345.jpg.npy', '7916.jpg.npy', '25366.jpg.npy', '20092.jpg.npy', '1719.jpg.npy', '17883.jpg.npy', '7873.jpg.npy', '17802.jpg.npy', '5162.jpg.npy', '6124.jpg.npy', '22707.jpg.npy', '10694.jpg.npy', '9766.jpg.npy', '18686.jpg.npy', '21356.jpg.npy', '4484.jpg.npy', '2430.jpg.npy', '11319.jpg.npy', '15810.jpg.npy', '9327.jpg.npy', '3268.jpg.npy', '27481.jpg.npy', '13499.jpg.npy', '25518.jpg.npy', '1119.jpg.npy', '3426.jpg.npy', '21806.jpg.npy', '24240.jpg.npy', '24623.jpg.npy', '5789.jpg.npy', '20290.jpg.npy', '14130.jpg.npy', '17220.jpg.npy', '8772.jpg.npy', '11094.jpg.npy', '20678.jpg.npy', '18250.jpg.npy', '5131.jpg.npy', '5478.jpg.npy', '23419.jpg.npy', '13733.jpg.npy', '23458.jpg.npy', '17460.jpg.npy', '18682.jpg.npy', '2790.jpg.npy', '20267.jpg.npy', '20890.jpg.npy', '21389.jpg.npy', '8878.jpg.npy', '2048.jpg.npy', '28432.jpg.npy', '5319.jpg.npy', '20061.jpg.npy', '8611.jpg.npy', '2949.jpg.npy', '4372.jpg.npy', '14386.jpg.npy', '24641.jpg.npy', '26280.jpg.npy', '26565.jpg.npy', '282.jpg.npy', '28427.jpg.npy', '27444.jpg.npy', '18695.jpg.npy', '10786.jpg.npy', '23661.jpg.npy', '8010.jpg.npy', '27053.jpg.npy', '2359.jpg.npy', '12839.jpg.npy', '22284.jpg.npy', '13868.jpg.npy', '19212.jpg.npy', '2213.jpg.npy', '16695.jpg.npy', '21952.jpg.npy', '20866.jpg.npy', '26246.jpg.npy', '19471.jpg.npy', '13598.jpg.npy', '1816.jpg.npy', '4665.jpg.npy', '22236.jpg.npy', '9282.jpg.npy', '19234.jpg.npy', '25123.jpg.npy', '23568.jpg.npy', '26410.jpg.npy', '11364.jpg.npy', '11808.jpg.npy', '20702.jpg.npy', '17946.jpg.npy', '15752.jpg.npy', '17414.jpg.npy', '26347.jpg.npy', '18694.jpg.npy', '20395.jpg.npy', '27643.jpg.npy', '4138.jpg.npy', '3867.jpg.npy', '28384.jpg.npy', '13041.jpg.npy', '5151.jpg.npy', '21178.jpg.npy', '15377.jpg.npy', '19033.jpg.npy', '5769.jpg.npy', '18024.jpg.npy', '21436.jpg.npy', '14597.jpg.npy', '264.jpg.npy', '1492.jpg.npy', '22435.jpg.npy', '26085.jpg.npy', '14248.jpg.npy', '26086.jpg.npy', '9980.jpg.npy', '3880.jpg.npy', '16119.jpg.npy', '27085.jpg.npy', '2210.jpg.npy', '15145.jpg.npy', '15675.jpg.npy', '22273.jpg.npy', '24814.jpg.npy', '26387.jpg.npy', '6286.jpg.npy', '14593.jpg.npy', '8486.jpg.npy', '6656.jpg.npy', '320.jpg.npy', '27289.jpg.npy', '24386.jpg.npy', '24574.jpg.npy', '24628.jpg.npy', '8050.jpg.npy', '5204.jpg.npy', '28146.jpg.npy', '26782.jpg.npy', '25284.jpg.npy', '16594.jpg.npy', '7768.jpg.npy', '2191.jpg.npy', '7566.jpg.npy', '24382.jpg.npy', '20906.jpg.npy', '6028.jpg.npy', '8312.jpg.npy', '7053.jpg.npy', '12865.jpg.npy', '774.jpg.npy', '13092.jpg.npy', '12888.jpg.npy', '26244.jpg.npy', '19110.jpg.npy', '7993.jpg.npy', '12135.jpg.npy', '24509.jpg.npy', '4126.jpg.npy', '8054.jpg.npy', '23553.jpg.npy', '22043.jpg.npy', '26820.jpg.npy', '27302.jpg.npy', '25665.jpg.npy', '10186.jpg.npy', '12619.jpg.npy', '21381.jpg.npy', '21302.jpg.npy', '26191.jpg.npy', '21997.jpg.npy', '17390.jpg.npy', '20716.jpg.npy', '22538.jpg.npy', '20019.jpg.npy', '18437.jpg.npy', '5148.jpg.npy', '4931.jpg.npy', '9542.jpg.npy', '21149.jpg.npy', '14696.jpg.npy', '9375.jpg.npy', '16877.jpg.npy', '8451.jpg.npy', '6170.jpg.npy', '13534.jpg.npy', '3327.jpg.npy', '15229.jpg.npy', '9796.jpg.npy', '2885.jpg.npy', '19391.jpg.npy', '18443.jpg.npy', '28041.jpg.npy', '27339.jpg.npy', '13493.jpg.npy', '24416.jpg.npy', '26079.jpg.npy', '18423.jpg.npy', '17151.jpg.npy', '6253.jpg.npy', '17855.jpg.npy', '1874.jpg.npy', '1713.jpg.npy', '7192.jpg.npy', '3394.jpg.npy', '19705.jpg.npy', '7414.jpg.npy', '10424.jpg.npy', '13665.jpg.npy', '18274.jpg.npy', '8339.jpg.npy', '23178.jpg.npy', '7166.jpg.npy', '8910.jpg.npy', '3841.jpg.npy', '3127.jpg.npy', '22073.jpg.npy', '17959.jpg.npy', '5708.jpg.npy', '15769.jpg.npy', '17107.jpg.npy', '2449.jpg.npy', '8448.jpg.npy', '11842.jpg.npy', '16230.jpg.npy', '6730.jpg.npy', '6480.jpg.npy', '1797.jpg.npy', '1551.jpg.npy', '9195.jpg.npy', '14334.jpg.npy', '26687.jpg.npy', '19660.jpg.npy', '17995.jpg.npy', '8733.jpg.npy', '26324.jpg.npy', '13842.jpg.npy', '13601.jpg.npy', '3156.jpg.npy', '4367.jpg.npy', '10012.jpg.npy', '15370.jpg.npy', '7041.jpg.npy', '3848.jpg.npy', '16523.jpg.npy', '19013.jpg.npy', '8986.jpg.npy', '8827.jpg.npy', '10605.jpg.npy', '1182.jpg.npy', '20254.jpg.npy', '18533.jpg.npy', '23379.jpg.npy', '22443.jpg.npy', '18019.jpg.npy', '17881.jpg.npy', '12598.jpg.npy', '12189.jpg.npy', '21552.jpg.npy', '16264.jpg.npy', '4281.jpg.npy', '11610.jpg.npy', '4125.jpg.npy', '3724.jpg.npy', '27799.jpg.npy', '12444.jpg.npy', '8492.jpg.npy', '27114.jpg.npy', '9722.jpg.npy', '9135.jpg.npy', '13417.jpg.npy', '20642.jpg.npy', '20586.jpg.npy', '13166.jpg.npy', '14304.jpg.npy', '21061.jpg.npy', '15179.jpg.npy', '11296.jpg.npy', '13206.jpg.npy', '26618.jpg.npy', '19368.jpg.npy', '9785.jpg.npy', '21181.jpg.npy', '17806.jpg.npy', '26573.jpg.npy', '10243.jpg.npy', '21151.jpg.npy', '5031.jpg.npy', '18893.jpg.npy', '5425.jpg.npy', '12862.jpg.npy', '16962.jpg.npy', '8202.jpg.npy', '2073.jpg.npy', '22325.jpg.npy', '18928.jpg.npy', '3580.jpg.npy', '25823.jpg.npy', '18624.jpg.npy', '25164.jpg.npy', '20264.jpg.npy', '809.jpg.npy', '217.jpg.npy', '275.jpg.npy', '28054.jpg.npy', '3100.jpg.npy', '22631.jpg.npy', '1680.jpg.npy', '4763.jpg.npy', '6818.jpg.npy', '10413.jpg.npy', '5215.jpg.npy', '15992.jpg.npy', '26431.jpg.npy', '3816.jpg.npy', '991.jpg.npy', '19227.jpg.npy', '27923.jpg.npy', '11276.jpg.npy', '12588.jpg.npy', '22286.jpg.npy', '8216.jpg.npy', '9605.jpg.npy', '17416.jpg.npy', '16297.jpg.npy', '24694.jpg.npy', '21182.jpg.npy', '17350.jpg.npy', '26765.jpg.npy', '26766.jpg.npy', '9697.jpg.npy', '22329.jpg.npy', '11372.jpg.npy', '9569.jpg.npy', '26545.jpg.npy', '26784.jpg.npy', '15088.jpg.npy', '28251.jpg.npy', '10453.jpg.npy', '18455.jpg.npy', '12468.jpg.npy', '314.jpg.npy', '21926.jpg.npy', '4318.jpg.npy', '23383.jpg.npy', '11830.jpg.npy', '13687.jpg.npy', '19946.jpg.npy', '14497.jpg.npy', '5245.jpg.npy', '14516.jpg.npy', '14792.jpg.npy', '9024.jpg.npy', '20091.jpg.npy', '26583.jpg.npy', '21857.jpg.npy', '16671.jpg.npy', '16324.jpg.npy', '12123.jpg.npy', '25365.jpg.npy', '27204.jpg.npy', '9533.jpg.npy', '13439.jpg.npy', '18811.jpg.npy', '26443.jpg.npy', '8837.jpg.npy', '6534.jpg.npy', '4749.jpg.npy', '25935.jpg.npy', '20715.jpg.npy', '17098.jpg.npy', '4603.jpg.npy', '26954.jpg.npy', '5720.jpg.npy', '16009.jpg.npy', '2363.jpg.npy', '17165.jpg.npy', '297.jpg.npy', '26764.jpg.npy', '18959.jpg.npy', '27693.jpg.npy', '4721.jpg.npy', '10599.jpg.npy', '2637.jpg.npy', '25682.jpg.npy', '24583.jpg.npy', '17198.jpg.npy', '13686.jpg.npy', '17768.jpg.npy', '22632.jpg.npy', '8947.jpg.npy', '24363.jpg.npy', '15623.jpg.npy', '15924.jpg.npy', '3658.jpg.npy', '16871.jpg.npy', '17407.jpg.npy', '15805.jpg.npy', '7806.jpg.npy', '20380.jpg.npy', '13470.jpg.npy', '16973.jpg.npy', '25836.jpg.npy', '39.jpg.npy', '25491.jpg.npy', '6130.jpg.npy', '9380.jpg.npy', '5525.jpg.npy', '24352.jpg.npy', '11943.jpg.npy', '20580.jpg.npy', '9189.jpg.npy', '7862.jpg.npy', '23968.jpg.npy', '20966.jpg.npy', '7944.jpg.npy', '14706.jpg.npy', '23787.jpg.npy', '6926.jpg.npy', '24206.jpg.npy', '23073.jpg.npy', '3744.jpg.npy', '5952.jpg.npy', '13809.jpg.npy', '3637.jpg.npy', '6505.jpg.npy', '3466.jpg.npy', '18658.jpg.npy', '12519.jpg.npy', '10433.jpg.npy', '5085.jpg.npy', '12987.jpg.npy', '26718.jpg.npy', '6734.jpg.npy', '24743.jpg.npy', '23634.jpg.npy', '12252.jpg.npy', '24639.jpg.npy', '24767.jpg.npy', '26178.jpg.npy', '766.jpg.npy', '17596.jpg.npy', '24653.jpg.npy', '15630.jpg.npy', '6051.jpg.npy', '2473.jpg.npy', '4240.jpg.npy', '11292.jpg.npy', '22967.jpg.npy', '21146.jpg.npy', '24955.jpg.npy', '25239.jpg.npy', '28144.jpg.npy', '28290.jpg.npy', '22902.jpg.npy', '25001.jpg.npy', '12125.jpg.npy', '19926.jpg.npy', '14625.jpg.npy', '14251.jpg.npy', '12866.jpg.npy', '21267.jpg.npy', '4499.jpg.npy', '25571.jpg.npy', '10751.jpg.npy', '20350.jpg.npy', '1544.jpg.npy', '22104.jpg.npy', '11759.jpg.npy', '15234.jpg.npy', '27093.jpg.npy', '12415.jpg.npy', '9376.jpg.npy', '6469.jpg.npy', '2750.jpg.npy', '11069.jpg.npy', '16696.jpg.npy', '691.jpg.npy', '20594.jpg.npy', '27279.jpg.npy', '18157.jpg.npy', '12439.jpg.npy', '525.jpg.npy', '7038.jpg.npy', '26174.jpg.npy', '1867.jpg.npy', '1690.jpg.npy', '11922.jpg.npy', '3712.jpg.npy', '18182.jpg.npy', '23510.jpg.npy', '13284.jpg.npy', '19545.jpg.npy', '3620.jpg.npy', '841.jpg.npy', '14065.jpg.npy', '1391.jpg.npy', '24834.jpg.npy', '472.jpg.npy', '13373.jpg.npy', '24179.jpg.npy']\n"
          ]
        }
      ]
    },
    {
      "cell_type": "code",
      "source": [
        "gallery_path = Path(\"gallery/gallery/gallery\")\n",
        "file_list = os.listdir(str(gallery_path))\n",
        "print(file_list)"
      ],
      "metadata": {
        "id": "t2qOP1MDwJAW"
      },
      "execution_count": null,
      "outputs": []
    },
    {
      "cell_type": "code",
      "source": [
        "torch.set_grad_enabled(False)\n",
        "\n",
        "device = torch.device(\"cuda\" if torch.cuda.is_available() else \"cpu\")  # 'mps', 'cpu'\n",
        "\n",
        "extractor = SuperPoint(max_num_keypoints=1024).eval().to(device)  # load the extractor\n",
        "matcher = LightGlue(features=\"superpoint\").eval().to(device)\n",
        "print(device)"
      ],
      "metadata": {
        "colab": {
          "base_uri": "https://localhost:8080/"
        },
        "id": "fF1QsSzA-X_z",
        "outputId": "6ff6c30e-f0da-49cc-8b00-6dd61a6dccd5"
      },
      "execution_count": null,
      "outputs": [
        {
          "output_type": "stream",
          "name": "stderr",
          "text": [
            "Downloading: \"https://github.com/cvg/LightGlue/releases/download/v0.1_arxiv/superpoint_v1.pth\" to /root/.cache/torch/hub/checkpoints/superpoint_v1.pth\n",
            "100%|██████████| 4.96M/4.96M [00:00<00:00, 331MB/s]\n",
            "Downloading: \"https://github.com/cvg/LightGlue/releases/download/v0.1_arxiv/superpoint_lightglue.pth\" to /root/.cache/torch/hub/checkpoints/superpoint_lightglue_v0-1_arxiv.pth\n",
            "100%|██████████| 45.3M/45.3M [00:01<00:00, 40.8MB/s]\n"
          ]
        },
        {
          "output_type": "stream",
          "name": "stdout",
          "text": [
            "cuda\n"
          ]
        }
      ]
    },
    {
      "cell_type": "code",
      "source": [
        "query_path = Path(\"gallery/gallery/query_boxed\")\n",
        "gallery_path = Path(\"gallery/gallery/gallery\")\n",
        "\n",
        "file_list = os.listdir(\"gallery/gallery/query_boxed/\")\n",
        "file_list.sort(key=lambda x:x.split(\".\")[0])\n",
        "\n",
        "for i, file_name in enumerate(file_list):\n",
        "    query_image = load_image(query_path / file_name)\n",
        "    # cv2.imread(str(query_path / file_name))\n",
        "    file_list = os.listdir(str(gallery_path))\n",
        "    scores = []\n",
        "    for i, file_name1 in enumerate(file_list):\n",
        "        percentage = round(i / len(file_list) * 100)\n",
        "        print(\"\\r文件处理进度: {}%: \".format(percentage), \"▓\" * (percentage // 2), end=\"\")\n",
        "        sys.stdout.flush()\n",
        "        gallery_image = load_image(gallery_path / file_name1)\n",
        "        _, _, matches = match_pair(extractor, matcher, query_image.to(device), gallery_image.to(device))\n",
        "        if len(matches['scores']) > 0:\n",
        "            score = np.mean(np.array(matches['scores']))\n",
        "        else: score=0\n",
        "        scores.append((file_name1.split(\".\")[0], score))\n",
        "    scores.sort(key=lambda x: x[1], reverse=True)\n",
        "    with open('ORB_deep.txt', 'a', encoding='utf-8') as file:\n",
        "        file.write(\"Q\" + str(int(file_name.split('.')[0])+1) + \": \")\n",
        "        order = \"\"\n",
        "        for num, _ in scores:\n",
        "            order = order + num + \" \"\n",
        "        file.write(order)\n",
        "        file.write(\"\\n\")"
      ],
      "metadata": {
        "colab": {
          "base_uri": "https://localhost:8080/"
        },
        "id": "uNem6zss8NOr",
        "outputId": "41b1a367-09d5-427a-f397-e435856ff65a"
      },
      "execution_count": null,
      "outputs": [
        {
          "output_type": "stream",
          "name": "stdout",
          "text": [
            "文件处理进度: 49%:  ▓▓▓▓▓▓▓▓▓▓▓▓▓▓▓▓▓▓▓▓▓▓▓▓"
          ]
        }
      ]
    }
  ],
  "metadata": {
    "kernelspec": {
      "display_name": "Python 3",
      "name": "python3"
    },
    "language_info": {
      "codemirror_mode": {
        "name": "ipython",
        "version": 3
      },
      "file_extension": ".py",
      "mimetype": "text/x-python",
      "name": "python",
      "nbconvert_exporter": "python",
      "pygments_lexer": "ipython3",
      "version": "3.7.8"
    },
    "colab": {
      "provenance": []
    }
  },
  "nbformat": 4,
  "nbformat_minor": 0
}